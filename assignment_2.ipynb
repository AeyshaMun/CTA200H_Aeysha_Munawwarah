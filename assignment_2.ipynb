{
 "cells": [
  {
   "cell_type": "markdown",
   "id": "936ca4ed",
   "metadata": {},
   "source": [
    "### PART 1\n",
    "\n",
    "Write a python function for the given f(x). Also, write a function for its derivation (you will have to work out df/dx yourself), you can call these functions f and df."
   ]
  },
  {
   "cell_type": "code",
   "execution_count": 24,
   "id": "3a1800bd",
   "metadata": {},
   "outputs": [],
   "source": [
    "# also add documentation here\n",
    "def f(x):\n",
    "    \"\"\" This function evaluates the following polynomial expression of x:\n",
    "    x ** 3 - x ** 2 - 1.\n",
    "    \n",
    "    Parameters\n",
    "    -------------\n",
    "    x: array-like\n",
    "        The given value of x.\n",
    "    \n",
    "    Returns\n",
    "    -------------\n",
    "    result: array-like\n",
    "        The value x ** 3 - x ** 2 - 1.\n",
    "    \"\"\"\n",
    "    result = x ** 3 - x ** 2 - 1\n",
    "    return result\n",
    "\n",
    "def df(x):\n",
    "    \"\"\" This function evaluates the derivative of the following polynomial\n",
    "    expression of x: x ** 3 - x ** 2 - 1.\n",
    "    \n",
    "    Parameters\n",
    "    -------------\n",
    "    x: array-like\n",
    "        The given values of x.\n",
    "    \n",
    "    Returns\n",
    "    -------------\n",
    "    result: array-like\n",
    "        The value 3 * x ** 2 - 2 * x.\n",
    "    \"\"\"\n",
    "    result = 3 * x ** 2 - 2 * x\n",
    "    return result"
   ]
  },
  {
   "cell_type": "markdown",
   "id": "362f22ec",
   "metadata": {},
   "source": [
    "### PART 2\n",
    "\n",
    "Write a function newton(f, df, x0, epsilon=1e-6, max_iter=30) which performs a Newton Iteration of the function f with derivative df."
   ]
  },
  {
   "cell_type": "code",
   "execution_count": 67,
   "id": "5d9bc15d",
   "metadata": {},
   "outputs": [],
   "source": [
    "# doublecheck if this function is right lol\n",
    "# and add documentation\n",
    "def newton(f, df, x0, epsilon=1e-6, max_iter=30):\n",
    "    \"\"\" This function performs a newton iteration of the function f with\n",
    "    derivative df.\n",
    "    \n",
    "    Parameters\n",
    "    -------------\n",
    "    f: function\n",
    "        A given function.\n",
    "    df: function\n",
    "        The derivative of the given function.\n",
    "    x0: array-like\n",
    "        Initial guess for the root of the given function.\n",
    "    epsilon: float\n",
    "        Error between initial guess and actual root.\n",
    "    max_iter: int\n",
    "        Maximum number of iterations that can be taken to find the root.\n",
    "    \n",
    "    Returns\n",
    "    -------------\n",
    "    None OR x_n: array-like\n",
    "                The root of the given function.\n",
    "    \"\"\"\n",
    "    x_n = x0 # set an initial guess for the root\n",
    "    \n",
    "    for i in range(max_iter):\n",
    "        x_n1 = x_n - f(x_n)/df(x_n)\n",
    "                \n",
    "        if abs(f(x_n)) < epsilon:\n",
    "            print(\"Found root in\", i, \"iterations.\")\n",
    "            return x_n\n",
    "        \n",
    "        x_n = x_n1\n",
    "\n",
    "    print(\"Iteration failed.\") # reached the maximum number of iterations without finding the root\n",
    "    return None   "
   ]
  },
  {
   "cell_type": "markdown",
   "id": "be55edd2",
   "metadata": {},
   "source": [
    "### PART 3\n",
    "\n",
    "Try out your function with the function you defined in part 1."
   ]
  },
  {
   "cell_type": "code",
   "execution_count": 68,
   "id": "9685190d",
   "metadata": {},
   "outputs": [
    {
     "name": "stdout",
     "output_type": "stream",
     "text": [
      "Iteration failed.\n",
      "Found root in 9 iterations.\n",
      "Iteration failed.\n",
      "Found root in 9 iterations.\n"
     ]
    }
   ],
   "source": [
    "# leaving epsilon and max_iter as the default values set in part 2\n",
    "result_1a = newton(f, df, 100000000000000000) \n",
    "result_2a = newton(f, df, 10)\n",
    "\n",
    "# changing epsilon to be 1e-8\n",
    "result_1b = newton(f, df, 100000000000000000, epsilon=1e-8) \n",
    "result_2b = newton(f, df, 10, epsilon=1e-8) "
   ]
  }
 ],
 "metadata": {
  "kernelspec": {
   "display_name": "Python 3 (ipykernel)",
   "language": "python",
   "name": "python3"
  },
  "language_info": {
   "codemirror_mode": {
    "name": "ipython",
    "version": 3
   },
   "file_extension": ".py",
   "mimetype": "text/x-python",
   "name": "python",
   "nbconvert_exporter": "python",
   "pygments_lexer": "ipython3",
   "version": "3.10.2"
  }
 },
 "nbformat": 4,
 "nbformat_minor": 5
}
